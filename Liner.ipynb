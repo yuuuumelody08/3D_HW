{
  "cells": [
    {
      "cell_type": "markdown",
      "metadata": {
        "id": "view-in-github",
        "colab_type": "text"
      },
      "source": [
        "<a href=\"https://colab.research.google.com/github/yuuuumelody08/3D_HW/blob/main/Liner.ipynb\" target=\"_parent\"><img src=\"https://colab.research.google.com/assets/colab-badge.svg\" alt=\"Open In Colab\"/></a>"
      ]
    },
    {
      "cell_type": "markdown",
      "id": "626276ee",
      "metadata": {
        "id": "626276ee"
      },
      "source": [
        "### This program is used to conduct the correspondence analysis, showing the steps by steps to immplement the data analysis and draw a 2D positioning map.\n",
        "#### This is a case of different types of pottery found in different archaelogical sites."
      ]
    },
    {
      "cell_type": "code",
      "execution_count": 25,
      "id": "1cf7cb54",
      "metadata": {
        "id": "1cf7cb54"
      },
      "outputs": [],
      "source": [
        "import pandas as pd\n",
        "import numpy as np\n",
        "import seaborn as sns\n",
        "from matplotlib import pyplot as plt"
      ]
    },
    {
      "cell_type": "code",
      "execution_count": 26,
      "id": "7f42cdfd",
      "metadata": {
        "colab": {
          "base_uri": "https://localhost:8080/",
          "height": 142
        },
        "id": "7f42cdfd",
        "outputId": "23579f0d-8ef4-4ef1-dd90-cb316392990d"
      },
      "outputs": [
        {
          "output_type": "execute_result",
          "data": {
            "text/plain": [
              "                 site  Genshin  Love and Deep Space  Light and Night  \\\n",
              "0         Game geners       35                   37               36   \n",
              "1  Character modeling       40                   46               40   \n",
              "2           Play Mode       40                   41               41   \n",
              "\n",
              "   Honkai: Star Rail  Love and Producer  \n",
              "0                 37                 27  \n",
              "1                 43                 41  \n",
              "2                 50                 43  "
            ],
            "text/html": [
              "\n",
              "  <div id=\"df-8c59ea49-2501-48b8-9864-645fe9dbcc23\" class=\"colab-df-container\">\n",
              "    <div>\n",
              "<style scoped>\n",
              "    .dataframe tbody tr th:only-of-type {\n",
              "        vertical-align: middle;\n",
              "    }\n",
              "\n",
              "    .dataframe tbody tr th {\n",
              "        vertical-align: top;\n",
              "    }\n",
              "\n",
              "    .dataframe thead th {\n",
              "        text-align: right;\n",
              "    }\n",
              "</style>\n",
              "<table border=\"1\" class=\"dataframe\">\n",
              "  <thead>\n",
              "    <tr style=\"text-align: right;\">\n",
              "      <th></th>\n",
              "      <th>site</th>\n",
              "      <th>Genshin</th>\n",
              "      <th>Love and Deep Space</th>\n",
              "      <th>Light and Night</th>\n",
              "      <th>Honkai: Star Rail</th>\n",
              "      <th>Love and Producer</th>\n",
              "    </tr>\n",
              "  </thead>\n",
              "  <tbody>\n",
              "    <tr>\n",
              "      <th>0</th>\n",
              "      <td>Game geners</td>\n",
              "      <td>35</td>\n",
              "      <td>37</td>\n",
              "      <td>36</td>\n",
              "      <td>37</td>\n",
              "      <td>27</td>\n",
              "    </tr>\n",
              "    <tr>\n",
              "      <th>1</th>\n",
              "      <td>Character modeling</td>\n",
              "      <td>40</td>\n",
              "      <td>46</td>\n",
              "      <td>40</td>\n",
              "      <td>43</td>\n",
              "      <td>41</td>\n",
              "    </tr>\n",
              "    <tr>\n",
              "      <th>2</th>\n",
              "      <td>Play Mode</td>\n",
              "      <td>40</td>\n",
              "      <td>41</td>\n",
              "      <td>41</td>\n",
              "      <td>50</td>\n",
              "      <td>43</td>\n",
              "    </tr>\n",
              "  </tbody>\n",
              "</table>\n",
              "</div>\n",
              "    <div class=\"colab-df-buttons\">\n",
              "\n",
              "  <div class=\"colab-df-container\">\n",
              "    <button class=\"colab-df-convert\" onclick=\"convertToInteractive('df-8c59ea49-2501-48b8-9864-645fe9dbcc23')\"\n",
              "            title=\"Convert this dataframe to an interactive table.\"\n",
              "            style=\"display:none;\">\n",
              "\n",
              "  <svg xmlns=\"http://www.w3.org/2000/svg\" height=\"24px\" viewBox=\"0 -960 960 960\">\n",
              "    <path d=\"M120-120v-720h720v720H120Zm60-500h600v-160H180v160Zm220 220h160v-160H400v160Zm0 220h160v-160H400v160ZM180-400h160v-160H180v160Zm440 0h160v-160H620v160ZM180-180h160v-160H180v160Zm440 0h160v-160H620v160Z\"/>\n",
              "  </svg>\n",
              "    </button>\n",
              "\n",
              "  <style>\n",
              "    .colab-df-container {\n",
              "      display:flex;\n",
              "      gap: 12px;\n",
              "    }\n",
              "\n",
              "    .colab-df-convert {\n",
              "      background-color: #E8F0FE;\n",
              "      border: none;\n",
              "      border-radius: 50%;\n",
              "      cursor: pointer;\n",
              "      display: none;\n",
              "      fill: #1967D2;\n",
              "      height: 32px;\n",
              "      padding: 0 0 0 0;\n",
              "      width: 32px;\n",
              "    }\n",
              "\n",
              "    .colab-df-convert:hover {\n",
              "      background-color: #E2EBFA;\n",
              "      box-shadow: 0px 1px 2px rgba(60, 64, 67, 0.3), 0px 1px 3px 1px rgba(60, 64, 67, 0.15);\n",
              "      fill: #174EA6;\n",
              "    }\n",
              "\n",
              "    .colab-df-buttons div {\n",
              "      margin-bottom: 4px;\n",
              "    }\n",
              "\n",
              "    [theme=dark] .colab-df-convert {\n",
              "      background-color: #3B4455;\n",
              "      fill: #D2E3FC;\n",
              "    }\n",
              "\n",
              "    [theme=dark] .colab-df-convert:hover {\n",
              "      background-color: #434B5C;\n",
              "      box-shadow: 0px 1px 3px 1px rgba(0, 0, 0, 0.15);\n",
              "      filter: drop-shadow(0px 1px 2px rgba(0, 0, 0, 0.3));\n",
              "      fill: #FFFFFF;\n",
              "    }\n",
              "  </style>\n",
              "\n",
              "    <script>\n",
              "      const buttonEl =\n",
              "        document.querySelector('#df-8c59ea49-2501-48b8-9864-645fe9dbcc23 button.colab-df-convert');\n",
              "      buttonEl.style.display =\n",
              "        google.colab.kernel.accessAllowed ? 'block' : 'none';\n",
              "\n",
              "      async function convertToInteractive(key) {\n",
              "        const element = document.querySelector('#df-8c59ea49-2501-48b8-9864-645fe9dbcc23');\n",
              "        const dataTable =\n",
              "          await google.colab.kernel.invokeFunction('convertToInteractive',\n",
              "                                                    [key], {});\n",
              "        if (!dataTable) return;\n",
              "\n",
              "        const docLinkHtml = 'Like what you see? Visit the ' +\n",
              "          '<a target=\"_blank\" href=https://colab.research.google.com/notebooks/data_table.ipynb>data table notebook</a>'\n",
              "          + ' to learn more about interactive tables.';\n",
              "        element.innerHTML = '';\n",
              "        dataTable['output_type'] = 'display_data';\n",
              "        await google.colab.output.renderOutput(dataTable, element);\n",
              "        const docLink = document.createElement('div');\n",
              "        docLink.innerHTML = docLinkHtml;\n",
              "        element.appendChild(docLink);\n",
              "      }\n",
              "    </script>\n",
              "  </div>\n",
              "\n",
              "\n",
              "<div id=\"df-cc3bba2c-a73a-4c70-b4f5-fa0398a386e4\">\n",
              "  <button class=\"colab-df-quickchart\" onclick=\"quickchart('df-cc3bba2c-a73a-4c70-b4f5-fa0398a386e4')\"\n",
              "            title=\"Suggest charts\"\n",
              "            style=\"display:none;\">\n",
              "\n",
              "<svg xmlns=\"http://www.w3.org/2000/svg\" height=\"24px\"viewBox=\"0 0 24 24\"\n",
              "     width=\"24px\">\n",
              "    <g>\n",
              "        <path d=\"M19 3H5c-1.1 0-2 .9-2 2v14c0 1.1.9 2 2 2h14c1.1 0 2-.9 2-2V5c0-1.1-.9-2-2-2zM9 17H7v-7h2v7zm4 0h-2V7h2v10zm4 0h-2v-4h2v4z\"/>\n",
              "    </g>\n",
              "</svg>\n",
              "  </button>\n",
              "\n",
              "<style>\n",
              "  .colab-df-quickchart {\n",
              "      --bg-color: #E8F0FE;\n",
              "      --fill-color: #1967D2;\n",
              "      --hover-bg-color: #E2EBFA;\n",
              "      --hover-fill-color: #174EA6;\n",
              "      --disabled-fill-color: #AAA;\n",
              "      --disabled-bg-color: #DDD;\n",
              "  }\n",
              "\n",
              "  [theme=dark] .colab-df-quickchart {\n",
              "      --bg-color: #3B4455;\n",
              "      --fill-color: #D2E3FC;\n",
              "      --hover-bg-color: #434B5C;\n",
              "      --hover-fill-color: #FFFFFF;\n",
              "      --disabled-bg-color: #3B4455;\n",
              "      --disabled-fill-color: #666;\n",
              "  }\n",
              "\n",
              "  .colab-df-quickchart {\n",
              "    background-color: var(--bg-color);\n",
              "    border: none;\n",
              "    border-radius: 50%;\n",
              "    cursor: pointer;\n",
              "    display: none;\n",
              "    fill: var(--fill-color);\n",
              "    height: 32px;\n",
              "    padding: 0;\n",
              "    width: 32px;\n",
              "  }\n",
              "\n",
              "  .colab-df-quickchart:hover {\n",
              "    background-color: var(--hover-bg-color);\n",
              "    box-shadow: 0 1px 2px rgba(60, 64, 67, 0.3), 0 1px 3px 1px rgba(60, 64, 67, 0.15);\n",
              "    fill: var(--button-hover-fill-color);\n",
              "  }\n",
              "\n",
              "  .colab-df-quickchart-complete:disabled,\n",
              "  .colab-df-quickchart-complete:disabled:hover {\n",
              "    background-color: var(--disabled-bg-color);\n",
              "    fill: var(--disabled-fill-color);\n",
              "    box-shadow: none;\n",
              "  }\n",
              "\n",
              "  .colab-df-spinner {\n",
              "    border: 2px solid var(--fill-color);\n",
              "    border-color: transparent;\n",
              "    border-bottom-color: var(--fill-color);\n",
              "    animation:\n",
              "      spin 1s steps(1) infinite;\n",
              "  }\n",
              "\n",
              "  @keyframes spin {\n",
              "    0% {\n",
              "      border-color: transparent;\n",
              "      border-bottom-color: var(--fill-color);\n",
              "      border-left-color: var(--fill-color);\n",
              "    }\n",
              "    20% {\n",
              "      border-color: transparent;\n",
              "      border-left-color: var(--fill-color);\n",
              "      border-top-color: var(--fill-color);\n",
              "    }\n",
              "    30% {\n",
              "      border-color: transparent;\n",
              "      border-left-color: var(--fill-color);\n",
              "      border-top-color: var(--fill-color);\n",
              "      border-right-color: var(--fill-color);\n",
              "    }\n",
              "    40% {\n",
              "      border-color: transparent;\n",
              "      border-right-color: var(--fill-color);\n",
              "      border-top-color: var(--fill-color);\n",
              "    }\n",
              "    60% {\n",
              "      border-color: transparent;\n",
              "      border-right-color: var(--fill-color);\n",
              "    }\n",
              "    80% {\n",
              "      border-color: transparent;\n",
              "      border-right-color: var(--fill-color);\n",
              "      border-bottom-color: var(--fill-color);\n",
              "    }\n",
              "    90% {\n",
              "      border-color: transparent;\n",
              "      border-bottom-color: var(--fill-color);\n",
              "    }\n",
              "  }\n",
              "</style>\n",
              "\n",
              "  <script>\n",
              "    async function quickchart(key) {\n",
              "      const quickchartButtonEl =\n",
              "        document.querySelector('#' + key + ' button');\n",
              "      quickchartButtonEl.disabled = true;  // To prevent multiple clicks.\n",
              "      quickchartButtonEl.classList.add('colab-df-spinner');\n",
              "      try {\n",
              "        const charts = await google.colab.kernel.invokeFunction(\n",
              "            'suggestCharts', [key], {});\n",
              "      } catch (error) {\n",
              "        console.error('Error during call to suggestCharts:', error);\n",
              "      }\n",
              "      quickchartButtonEl.classList.remove('colab-df-spinner');\n",
              "      quickchartButtonEl.classList.add('colab-df-quickchart-complete');\n",
              "    }\n",
              "    (() => {\n",
              "      let quickchartButtonEl =\n",
              "        document.querySelector('#df-cc3bba2c-a73a-4c70-b4f5-fa0398a386e4 button');\n",
              "      quickchartButtonEl.style.display =\n",
              "        google.colab.kernel.accessAllowed ? 'block' : 'none';\n",
              "    })();\n",
              "  </script>\n",
              "</div>\n",
              "\n",
              "  <div id=\"id_146fad56-6136-47a1-b863-707ccf3ad688\">\n",
              "    <style>\n",
              "      .colab-df-generate {\n",
              "        background-color: #E8F0FE;\n",
              "        border: none;\n",
              "        border-radius: 50%;\n",
              "        cursor: pointer;\n",
              "        display: none;\n",
              "        fill: #1967D2;\n",
              "        height: 32px;\n",
              "        padding: 0 0 0 0;\n",
              "        width: 32px;\n",
              "      }\n",
              "\n",
              "      .colab-df-generate:hover {\n",
              "        background-color: #E2EBFA;\n",
              "        box-shadow: 0px 1px 2px rgba(60, 64, 67, 0.3), 0px 1px 3px 1px rgba(60, 64, 67, 0.15);\n",
              "        fill: #174EA6;\n",
              "      }\n",
              "\n",
              "      [theme=dark] .colab-df-generate {\n",
              "        background-color: #3B4455;\n",
              "        fill: #D2E3FC;\n",
              "      }\n",
              "\n",
              "      [theme=dark] .colab-df-generate:hover {\n",
              "        background-color: #434B5C;\n",
              "        box-shadow: 0px 1px 3px 1px rgba(0, 0, 0, 0.15);\n",
              "        filter: drop-shadow(0px 1px 2px rgba(0, 0, 0, 0.3));\n",
              "        fill: #FFFFFF;\n",
              "      }\n",
              "    </style>\n",
              "    <button class=\"colab-df-generate\" onclick=\"generateWithVariable('df')\"\n",
              "            title=\"Generate code using this dataframe.\"\n",
              "            style=\"display:none;\">\n",
              "\n",
              "  <svg xmlns=\"http://www.w3.org/2000/svg\" height=\"24px\"viewBox=\"0 0 24 24\"\n",
              "       width=\"24px\">\n",
              "    <path d=\"M7,19H8.4L18.45,9,17,7.55,7,17.6ZM5,21V16.75L18.45,3.32a2,2,0,0,1,2.83,0l1.4,1.43a1.91,1.91,0,0,1,.58,1.4,1.91,1.91,0,0,1-.58,1.4L9.25,21ZM18.45,9,17,7.55Zm-12,3A5.31,5.31,0,0,0,4.9,8.1,5.31,5.31,0,0,0,1,6.5,5.31,5.31,0,0,0,4.9,4.9,5.31,5.31,0,0,0,6.5,1,5.31,5.31,0,0,0,8.1,4.9,5.31,5.31,0,0,0,12,6.5,5.46,5.46,0,0,0,6.5,12Z\"/>\n",
              "  </svg>\n",
              "    </button>\n",
              "    <script>\n",
              "      (() => {\n",
              "      const buttonEl =\n",
              "        document.querySelector('#id_146fad56-6136-47a1-b863-707ccf3ad688 button.colab-df-generate');\n",
              "      buttonEl.style.display =\n",
              "        google.colab.kernel.accessAllowed ? 'block' : 'none';\n",
              "\n",
              "      buttonEl.onclick = () => {\n",
              "        google.colab.notebook.generateWithVariable('df');\n",
              "      }\n",
              "      })();\n",
              "    </script>\n",
              "  </div>\n",
              "\n",
              "    </div>\n",
              "  </div>\n"
            ],
            "application/vnd.google.colaboratory.intrinsic+json": {
              "type": "dataframe",
              "variable_name": "df",
              "summary": "{\n  \"name\": \"df\",\n  \"rows\": 3,\n  \"fields\": [\n    {\n      \"column\": \"site\",\n      \"properties\": {\n        \"dtype\": \"string\",\n        \"num_unique_values\": 3,\n        \"samples\": [\n          \"Game geners\",\n          \"Character modeling\",\n          \"Play Mode\"\n        ],\n        \"semantic_type\": \"\",\n        \"description\": \"\"\n      }\n    },\n    {\n      \"column\": \"Genshin\",\n      \"properties\": {\n        \"dtype\": \"number\",\n        \"std\": 2,\n        \"min\": 35,\n        \"max\": 40,\n        \"num_unique_values\": 2,\n        \"samples\": [\n          40,\n          35\n        ],\n        \"semantic_type\": \"\",\n        \"description\": \"\"\n      }\n    },\n    {\n      \"column\": \"Love and Deep Space\",\n      \"properties\": {\n        \"dtype\": \"number\",\n        \"std\": 4,\n        \"min\": 37,\n        \"max\": 46,\n        \"num_unique_values\": 3,\n        \"samples\": [\n          37,\n          46\n        ],\n        \"semantic_type\": \"\",\n        \"description\": \"\"\n      }\n    },\n    {\n      \"column\": \"Light and Night\",\n      \"properties\": {\n        \"dtype\": \"number\",\n        \"std\": 2,\n        \"min\": 36,\n        \"max\": 41,\n        \"num_unique_values\": 3,\n        \"samples\": [\n          36,\n          40\n        ],\n        \"semantic_type\": \"\",\n        \"description\": \"\"\n      }\n    },\n    {\n      \"column\": \"Honkai: Star Rail\",\n      \"properties\": {\n        \"dtype\": \"number\",\n        \"std\": 6,\n        \"min\": 37,\n        \"max\": 50,\n        \"num_unique_values\": 3,\n        \"samples\": [\n          37,\n          43\n        ],\n        \"semantic_type\": \"\",\n        \"description\": \"\"\n      }\n    },\n    {\n      \"column\": \"Love and Producer\",\n      \"properties\": {\n        \"dtype\": \"number\",\n        \"std\": 8,\n        \"min\": 27,\n        \"max\": 43,\n        \"num_unique_values\": 3,\n        \"samples\": [\n          27,\n          41\n        ],\n        \"semantic_type\": \"\",\n        \"description\": \"\"\n      }\n    }\n  ]\n}"
            }
          },
          "metadata": {},
          "execution_count": 26
        }
      ],
      "source": [
        "df = pd.read_excel('/content/ftb.xlsx', sheet_name='sheet1')\n",
        "df  # sites are the locations where archaeological evidence was found.\n",
        "# each evidence was labeled characteristics: A,B,C,or D. df is called a frequency table."
      ]
    },
    {
      "cell_type": "code",
      "execution_count": 27,
      "id": "bf191e8c",
      "metadata": {
        "colab": {
          "base_uri": "https://localhost:8080/",
          "height": 173
        },
        "id": "bf191e8c",
        "outputId": "3c248e2f-cdfa-460c-8b17-531209f41c59"
      },
      "outputs": [
        {
          "output_type": "execute_result",
          "data": {
            "text/plain": [
              "                    Genshin  Love and Deep Space  Light and Night  \\\n",
              "site                                                                \n",
              "Game geners              35                   37               36   \n",
              "Character modeling       40                   46               40   \n",
              "Play Mode                40                   41               41   \n",
              "\n",
              "                    Honkai: Star Rail  Love and Producer  \n",
              "site                                                      \n",
              "Game geners                        37                 27  \n",
              "Character modeling                 43                 41  \n",
              "Play Mode                          50                 43  "
            ],
            "text/html": [
              "\n",
              "  <div id=\"df-cf9ed951-1314-4867-8087-8935fca92a97\" class=\"colab-df-container\">\n",
              "    <div>\n",
              "<style scoped>\n",
              "    .dataframe tbody tr th:only-of-type {\n",
              "        vertical-align: middle;\n",
              "    }\n",
              "\n",
              "    .dataframe tbody tr th {\n",
              "        vertical-align: top;\n",
              "    }\n",
              "\n",
              "    .dataframe thead th {\n",
              "        text-align: right;\n",
              "    }\n",
              "</style>\n",
              "<table border=\"1\" class=\"dataframe\">\n",
              "  <thead>\n",
              "    <tr style=\"text-align: right;\">\n",
              "      <th></th>\n",
              "      <th>Genshin</th>\n",
              "      <th>Love and Deep Space</th>\n",
              "      <th>Light and Night</th>\n",
              "      <th>Honkai: Star Rail</th>\n",
              "      <th>Love and Producer</th>\n",
              "    </tr>\n",
              "    <tr>\n",
              "      <th>site</th>\n",
              "      <th></th>\n",
              "      <th></th>\n",
              "      <th></th>\n",
              "      <th></th>\n",
              "      <th></th>\n",
              "    </tr>\n",
              "  </thead>\n",
              "  <tbody>\n",
              "    <tr>\n",
              "      <th>Game geners</th>\n",
              "      <td>35</td>\n",
              "      <td>37</td>\n",
              "      <td>36</td>\n",
              "      <td>37</td>\n",
              "      <td>27</td>\n",
              "    </tr>\n",
              "    <tr>\n",
              "      <th>Character modeling</th>\n",
              "      <td>40</td>\n",
              "      <td>46</td>\n",
              "      <td>40</td>\n",
              "      <td>43</td>\n",
              "      <td>41</td>\n",
              "    </tr>\n",
              "    <tr>\n",
              "      <th>Play Mode</th>\n",
              "      <td>40</td>\n",
              "      <td>41</td>\n",
              "      <td>41</td>\n",
              "      <td>50</td>\n",
              "      <td>43</td>\n",
              "    </tr>\n",
              "  </tbody>\n",
              "</table>\n",
              "</div>\n",
              "    <div class=\"colab-df-buttons\">\n",
              "\n",
              "  <div class=\"colab-df-container\">\n",
              "    <button class=\"colab-df-convert\" onclick=\"convertToInteractive('df-cf9ed951-1314-4867-8087-8935fca92a97')\"\n",
              "            title=\"Convert this dataframe to an interactive table.\"\n",
              "            style=\"display:none;\">\n",
              "\n",
              "  <svg xmlns=\"http://www.w3.org/2000/svg\" height=\"24px\" viewBox=\"0 -960 960 960\">\n",
              "    <path d=\"M120-120v-720h720v720H120Zm60-500h600v-160H180v160Zm220 220h160v-160H400v160Zm0 220h160v-160H400v160ZM180-400h160v-160H180v160Zm440 0h160v-160H620v160ZM180-180h160v-160H180v160Zm440 0h160v-160H620v160Z\"/>\n",
              "  </svg>\n",
              "    </button>\n",
              "\n",
              "  <style>\n",
              "    .colab-df-container {\n",
              "      display:flex;\n",
              "      gap: 12px;\n",
              "    }\n",
              "\n",
              "    .colab-df-convert {\n",
              "      background-color: #E8F0FE;\n",
              "      border: none;\n",
              "      border-radius: 50%;\n",
              "      cursor: pointer;\n",
              "      display: none;\n",
              "      fill: #1967D2;\n",
              "      height: 32px;\n",
              "      padding: 0 0 0 0;\n",
              "      width: 32px;\n",
              "    }\n",
              "\n",
              "    .colab-df-convert:hover {\n",
              "      background-color: #E2EBFA;\n",
              "      box-shadow: 0px 1px 2px rgba(60, 64, 67, 0.3), 0px 1px 3px 1px rgba(60, 64, 67, 0.15);\n",
              "      fill: #174EA6;\n",
              "    }\n",
              "\n",
              "    .colab-df-buttons div {\n",
              "      margin-bottom: 4px;\n",
              "    }\n",
              "\n",
              "    [theme=dark] .colab-df-convert {\n",
              "      background-color: #3B4455;\n",
              "      fill: #D2E3FC;\n",
              "    }\n",
              "\n",
              "    [theme=dark] .colab-df-convert:hover {\n",
              "      background-color: #434B5C;\n",
              "      box-shadow: 0px 1px 3px 1px rgba(0, 0, 0, 0.15);\n",
              "      filter: drop-shadow(0px 1px 2px rgba(0, 0, 0, 0.3));\n",
              "      fill: #FFFFFF;\n",
              "    }\n",
              "  </style>\n",
              "\n",
              "    <script>\n",
              "      const buttonEl =\n",
              "        document.querySelector('#df-cf9ed951-1314-4867-8087-8935fca92a97 button.colab-df-convert');\n",
              "      buttonEl.style.display =\n",
              "        google.colab.kernel.accessAllowed ? 'block' : 'none';\n",
              "\n",
              "      async function convertToInteractive(key) {\n",
              "        const element = document.querySelector('#df-cf9ed951-1314-4867-8087-8935fca92a97');\n",
              "        const dataTable =\n",
              "          await google.colab.kernel.invokeFunction('convertToInteractive',\n",
              "                                                    [key], {});\n",
              "        if (!dataTable) return;\n",
              "\n",
              "        const docLinkHtml = 'Like what you see? Visit the ' +\n",
              "          '<a target=\"_blank\" href=https://colab.research.google.com/notebooks/data_table.ipynb>data table notebook</a>'\n",
              "          + ' to learn more about interactive tables.';\n",
              "        element.innerHTML = '';\n",
              "        dataTable['output_type'] = 'display_data';\n",
              "        await google.colab.output.renderOutput(dataTable, element);\n",
              "        const docLink = document.createElement('div');\n",
              "        docLink.innerHTML = docLinkHtml;\n",
              "        element.appendChild(docLink);\n",
              "      }\n",
              "    </script>\n",
              "  </div>\n",
              "\n",
              "\n",
              "<div id=\"df-98542a56-a395-4fd9-9ed9-676a8745c59f\">\n",
              "  <button class=\"colab-df-quickchart\" onclick=\"quickchart('df-98542a56-a395-4fd9-9ed9-676a8745c59f')\"\n",
              "            title=\"Suggest charts\"\n",
              "            style=\"display:none;\">\n",
              "\n",
              "<svg xmlns=\"http://www.w3.org/2000/svg\" height=\"24px\"viewBox=\"0 0 24 24\"\n",
              "     width=\"24px\">\n",
              "    <g>\n",
              "        <path d=\"M19 3H5c-1.1 0-2 .9-2 2v14c0 1.1.9 2 2 2h14c1.1 0 2-.9 2-2V5c0-1.1-.9-2-2-2zM9 17H7v-7h2v7zm4 0h-2V7h2v10zm4 0h-2v-4h2v4z\"/>\n",
              "    </g>\n",
              "</svg>\n",
              "  </button>\n",
              "\n",
              "<style>\n",
              "  .colab-df-quickchart {\n",
              "      --bg-color: #E8F0FE;\n",
              "      --fill-color: #1967D2;\n",
              "      --hover-bg-color: #E2EBFA;\n",
              "      --hover-fill-color: #174EA6;\n",
              "      --disabled-fill-color: #AAA;\n",
              "      --disabled-bg-color: #DDD;\n",
              "  }\n",
              "\n",
              "  [theme=dark] .colab-df-quickchart {\n",
              "      --bg-color: #3B4455;\n",
              "      --fill-color: #D2E3FC;\n",
              "      --hover-bg-color: #434B5C;\n",
              "      --hover-fill-color: #FFFFFF;\n",
              "      --disabled-bg-color: #3B4455;\n",
              "      --disabled-fill-color: #666;\n",
              "  }\n",
              "\n",
              "  .colab-df-quickchart {\n",
              "    background-color: var(--bg-color);\n",
              "    border: none;\n",
              "    border-radius: 50%;\n",
              "    cursor: pointer;\n",
              "    display: none;\n",
              "    fill: var(--fill-color);\n",
              "    height: 32px;\n",
              "    padding: 0;\n",
              "    width: 32px;\n",
              "  }\n",
              "\n",
              "  .colab-df-quickchart:hover {\n",
              "    background-color: var(--hover-bg-color);\n",
              "    box-shadow: 0 1px 2px rgba(60, 64, 67, 0.3), 0 1px 3px 1px rgba(60, 64, 67, 0.15);\n",
              "    fill: var(--button-hover-fill-color);\n",
              "  }\n",
              "\n",
              "  .colab-df-quickchart-complete:disabled,\n",
              "  .colab-df-quickchart-complete:disabled:hover {\n",
              "    background-color: var(--disabled-bg-color);\n",
              "    fill: var(--disabled-fill-color);\n",
              "    box-shadow: none;\n",
              "  }\n",
              "\n",
              "  .colab-df-spinner {\n",
              "    border: 2px solid var(--fill-color);\n",
              "    border-color: transparent;\n",
              "    border-bottom-color: var(--fill-color);\n",
              "    animation:\n",
              "      spin 1s steps(1) infinite;\n",
              "  }\n",
              "\n",
              "  @keyframes spin {\n",
              "    0% {\n",
              "      border-color: transparent;\n",
              "      border-bottom-color: var(--fill-color);\n",
              "      border-left-color: var(--fill-color);\n",
              "    }\n",
              "    20% {\n",
              "      border-color: transparent;\n",
              "      border-left-color: var(--fill-color);\n",
              "      border-top-color: var(--fill-color);\n",
              "    }\n",
              "    30% {\n",
              "      border-color: transparent;\n",
              "      border-left-color: var(--fill-color);\n",
              "      border-top-color: var(--fill-color);\n",
              "      border-right-color: var(--fill-color);\n",
              "    }\n",
              "    40% {\n",
              "      border-color: transparent;\n",
              "      border-right-color: var(--fill-color);\n",
              "      border-top-color: var(--fill-color);\n",
              "    }\n",
              "    60% {\n",
              "      border-color: transparent;\n",
              "      border-right-color: var(--fill-color);\n",
              "    }\n",
              "    80% {\n",
              "      border-color: transparent;\n",
              "      border-right-color: var(--fill-color);\n",
              "      border-bottom-color: var(--fill-color);\n",
              "    }\n",
              "    90% {\n",
              "      border-color: transparent;\n",
              "      border-bottom-color: var(--fill-color);\n",
              "    }\n",
              "  }\n",
              "</style>\n",
              "\n",
              "  <script>\n",
              "    async function quickchart(key) {\n",
              "      const quickchartButtonEl =\n",
              "        document.querySelector('#' + key + ' button');\n",
              "      quickchartButtonEl.disabled = true;  // To prevent multiple clicks.\n",
              "      quickchartButtonEl.classList.add('colab-df-spinner');\n",
              "      try {\n",
              "        const charts = await google.colab.kernel.invokeFunction(\n",
              "            'suggestCharts', [key], {});\n",
              "      } catch (error) {\n",
              "        console.error('Error during call to suggestCharts:', error);\n",
              "      }\n",
              "      quickchartButtonEl.classList.remove('colab-df-spinner');\n",
              "      quickchartButtonEl.classList.add('colab-df-quickchart-complete');\n",
              "    }\n",
              "    (() => {\n",
              "      let quickchartButtonEl =\n",
              "        document.querySelector('#df-98542a56-a395-4fd9-9ed9-676a8745c59f button');\n",
              "      quickchartButtonEl.style.display =\n",
              "        google.colab.kernel.accessAllowed ? 'block' : 'none';\n",
              "    })();\n",
              "  </script>\n",
              "</div>\n",
              "\n",
              "  <div id=\"id_48234561-e050-46ea-b49d-04e4ed30f0d2\">\n",
              "    <style>\n",
              "      .colab-df-generate {\n",
              "        background-color: #E8F0FE;\n",
              "        border: none;\n",
              "        border-radius: 50%;\n",
              "        cursor: pointer;\n",
              "        display: none;\n",
              "        fill: #1967D2;\n",
              "        height: 32px;\n",
              "        padding: 0 0 0 0;\n",
              "        width: 32px;\n",
              "      }\n",
              "\n",
              "      .colab-df-generate:hover {\n",
              "        background-color: #E2EBFA;\n",
              "        box-shadow: 0px 1px 2px rgba(60, 64, 67, 0.3), 0px 1px 3px 1px rgba(60, 64, 67, 0.15);\n",
              "        fill: #174EA6;\n",
              "      }\n",
              "\n",
              "      [theme=dark] .colab-df-generate {\n",
              "        background-color: #3B4455;\n",
              "        fill: #D2E3FC;\n",
              "      }\n",
              "\n",
              "      [theme=dark] .colab-df-generate:hover {\n",
              "        background-color: #434B5C;\n",
              "        box-shadow: 0px 1px 3px 1px rgba(0, 0, 0, 0.15);\n",
              "        filter: drop-shadow(0px 1px 2px rgba(0, 0, 0, 0.3));\n",
              "        fill: #FFFFFF;\n",
              "      }\n",
              "    </style>\n",
              "    <button class=\"colab-df-generate\" onclick=\"generateWithVariable('df')\"\n",
              "            title=\"Generate code using this dataframe.\"\n",
              "            style=\"display:none;\">\n",
              "\n",
              "  <svg xmlns=\"http://www.w3.org/2000/svg\" height=\"24px\"viewBox=\"0 0 24 24\"\n",
              "       width=\"24px\">\n",
              "    <path d=\"M7,19H8.4L18.45,9,17,7.55,7,17.6ZM5,21V16.75L18.45,3.32a2,2,0,0,1,2.83,0l1.4,1.43a1.91,1.91,0,0,1,.58,1.4,1.91,1.91,0,0,1-.58,1.4L9.25,21ZM18.45,9,17,7.55Zm-12,3A5.31,5.31,0,0,0,4.9,8.1,5.31,5.31,0,0,0,1,6.5,5.31,5.31,0,0,0,4.9,4.9,5.31,5.31,0,0,0,6.5,1,5.31,5.31,0,0,0,8.1,4.9,5.31,5.31,0,0,0,12,6.5,5.46,5.46,0,0,0,6.5,12Z\"/>\n",
              "  </svg>\n",
              "    </button>\n",
              "    <script>\n",
              "      (() => {\n",
              "      const buttonEl =\n",
              "        document.querySelector('#id_48234561-e050-46ea-b49d-04e4ed30f0d2 button.colab-df-generate');\n",
              "      buttonEl.style.display =\n",
              "        google.colab.kernel.accessAllowed ? 'block' : 'none';\n",
              "\n",
              "      buttonEl.onclick = () => {\n",
              "        google.colab.notebook.generateWithVariable('df');\n",
              "      }\n",
              "      })();\n",
              "    </script>\n",
              "  </div>\n",
              "\n",
              "    </div>\n",
              "  </div>\n"
            ],
            "application/vnd.google.colaboratory.intrinsic+json": {
              "type": "dataframe",
              "variable_name": "df",
              "summary": "{\n  \"name\": \"df\",\n  \"rows\": 3,\n  \"fields\": [\n    {\n      \"column\": \"site\",\n      \"properties\": {\n        \"dtype\": \"string\",\n        \"num_unique_values\": 3,\n        \"samples\": [\n          \"Game geners\",\n          \"Character modeling\",\n          \"Play Mode\"\n        ],\n        \"semantic_type\": \"\",\n        \"description\": \"\"\n      }\n    },\n    {\n      \"column\": \"Genshin\",\n      \"properties\": {\n        \"dtype\": \"number\",\n        \"std\": 2,\n        \"min\": 35,\n        \"max\": 40,\n        \"num_unique_values\": 2,\n        \"samples\": [\n          40,\n          35\n        ],\n        \"semantic_type\": \"\",\n        \"description\": \"\"\n      }\n    },\n    {\n      \"column\": \"Love and Deep Space\",\n      \"properties\": {\n        \"dtype\": \"number\",\n        \"std\": 4,\n        \"min\": 37,\n        \"max\": 46,\n        \"num_unique_values\": 3,\n        \"samples\": [\n          37,\n          46\n        ],\n        \"semantic_type\": \"\",\n        \"description\": \"\"\n      }\n    },\n    {\n      \"column\": \"Light and Night\",\n      \"properties\": {\n        \"dtype\": \"number\",\n        \"std\": 2,\n        \"min\": 36,\n        \"max\": 41,\n        \"num_unique_values\": 3,\n        \"samples\": [\n          36,\n          40\n        ],\n        \"semantic_type\": \"\",\n        \"description\": \"\"\n      }\n    },\n    {\n      \"column\": \"Honkai: Star Rail\",\n      \"properties\": {\n        \"dtype\": \"number\",\n        \"std\": 6,\n        \"min\": 37,\n        \"max\": 50,\n        \"num_unique_values\": 3,\n        \"samples\": [\n          37,\n          43\n        ],\n        \"semantic_type\": \"\",\n        \"description\": \"\"\n      }\n    },\n    {\n      \"column\": \"Love and Producer\",\n      \"properties\": {\n        \"dtype\": \"number\",\n        \"std\": 8,\n        \"min\": 27,\n        \"max\": 43,\n        \"num_unique_values\": 3,\n        \"samples\": [\n          27,\n          41\n        ],\n        \"semantic_type\": \"\",\n        \"description\": \"\"\n      }\n    }\n  ]\n}"
            }
          },
          "metadata": {},
          "execution_count": 27
        }
      ],
      "source": [
        "df=df.set_index('site') # reset the site column as the index of df\n",
        "df"
      ]
    },
    {
      "cell_type": "code",
      "execution_count": 28,
      "id": "054cfccb",
      "metadata": {
        "id": "054cfccb"
      },
      "outputs": [],
      "source": [
        "# only extract the values from a dataframe without the column names and indices\n",
        "contingency_table = df.values\n",
        "row_categories=df.index   # save the site names, index (row) names of df\n",
        "col_categories=df.columns # save the type names, column names of df"
      ]
    },
    {
      "cell_type": "code",
      "execution_count": 29,
      "id": "027530e2",
      "metadata": {
        "colab": {
          "base_uri": "https://localhost:8080/"
        },
        "id": "027530e2",
        "outputId": "008ede7e-51d7-4c17-c6a2-ac0cfd863697"
      },
      "outputs": [
        {
          "output_type": "execute_result",
          "data": {
            "text/plain": [
              "array([[35, 37, 36, 37, 27],\n",
              "       [40, 46, 40, 43, 41],\n",
              "       [40, 41, 41, 50, 43]])"
            ]
          },
          "metadata": {},
          "execution_count": 29
        }
      ],
      "source": [
        "contingency_table   # this is a data structure of array."
      ]
    },
    {
      "cell_type": "markdown",
      "id": "9da0edcd",
      "metadata": {
        "id": "9da0edcd"
      },
      "source": [
        "### X=⌊■8(𝑛_1,1&…&𝑛_(1,𝐽)@…&𝑛_(𝑖,𝑗)&…@𝑛_(𝐼,1)&…&𝑛_(𝐼,𝐽) )⌋_𝐼𝑥𝐽![image-2.png](attachment:image-2.png)"
      ]
    },
    {
      "cell_type": "code",
      "execution_count": 30,
      "id": "19cf22b9",
      "metadata": {
        "colab": {
          "base_uri": "https://localhost:8080/"
        },
        "id": "19cf22b9",
        "outputId": "ec42a5f4-36d4-4885-d57c-10618c28a280"
      },
      "outputs": [
        {
          "output_type": "stream",
          "name": "stdout",
          "text": [
            "Total occurrances: 597.0\n",
            "\n",
            "Actual observed relative frequency:\n",
            " [[0.05862647 0.06197655 0.06030151 0.06197655 0.04522613]\n",
            " [0.06700168 0.07705193 0.06700168 0.0720268  0.06867672]\n",
            " [0.06700168 0.06867672 0.06867672 0.08375209 0.0720268 ]]\n"
          ]
        }
      ],
      "source": [
        "grand_total = contingency_table.sum()  # summation of total sample points\n",
        "print(f\"Total occurrances: {grand_total:.1f}\")\n",
        "# compute the probability of each intersection sample according to the row and col levels\n",
        "corrspnd_mat = contingency_table / grand_total  # joint probabilities of row and col variables\n",
        "print('\\nActual observed relative frequency:\\n', corrspnd_mat)\n",
        "# corrspnd_mat is called a correspondence matrix."
      ]
    },
    {
      "cell_type": "markdown",
      "id": "585bcd42",
      "metadata": {
        "id": "585bcd42"
      },
      "source": [
        "𝑝_𝑖𝑗=𝑥_𝑖𝑗/𝑛, 𝑖=1,2,3,…𝐼, 𝑗=1,2,3,…𝐽;  𝑃=1/𝑛 𝑋\n",
        "![image.png](attachment:image.png)\n",
        "P= ⌊■8(𝑝_1,1&…&𝑝_(1,𝐽)@…&𝑝_(𝑖,𝑗)&…@𝑝_(𝐼,1)&…&𝑝_(𝐼,𝐽) )⌋_𝐼𝑥𝐽![image-2.png](attachment:image-2.png)"
      ]
    },
    {
      "cell_type": "code",
      "execution_count": 31,
      "id": "323a9058",
      "metadata": {
        "colab": {
          "base_uri": "https://localhost:8080/"
        },
        "id": "323a9058",
        "outputId": "71bd99a4-e342-4c98-b151-d6139559ff2d"
      },
      "outputs": [
        {
          "output_type": "stream",
          "name": "stdout",
          "text": [
            "sub-total by row: \n",
            " [172 210 215]\n",
            "sub-total by column:\n",
            " [115 124 117 130 111]\n"
          ]
        }
      ],
      "source": [
        "print('sub-total by row: \\n', contingency_table.sum(axis=1))  # summation column values by each row\n",
        "print('sub-total by column:\\n', contingency_table.sum(axis=0))  # summation row values by each column"
      ]
    },
    {
      "cell_type": "code",
      "execution_count": 32,
      "id": "d57a5196",
      "metadata": {
        "colab": {
          "base_uri": "https://localhost:8080/"
        },
        "id": "d57a5196",
        "outputId": "f6db9f57-40f6-4daf-b589-889681c45d94"
      },
      "outputs": [
        {
          "output_type": "stream",
          "name": "stdout",
          "text": [
            "\n",
            "Row masses-- row marginal proportions:\n",
            "\n",
            "[0.2881072  0.35175879 0.360134  ]\n",
            "\n",
            "Column masses-- column marginal proportions:\n",
            "\n",
            "[0.19262982 0.20770519 0.1959799  0.21775544 0.18592965]\n"
          ]
        }
      ],
      "source": [
        "row_masses = contingency_table.sum(axis=1) / grand_total  # summation along columns/total\n",
        "print(\"\\nRow masses-- row marginal proportions:\\n\")\n",
        "print(row_masses)\n",
        "col_masses = contingency_table.sum(axis=0) / grand_total  #summation along rows/total\n",
        "print(\"\\nColumn masses-- column marginal proportions:\\n\")\n",
        "print(col_masses)"
      ]
    },
    {
      "cell_type": "markdown",
      "id": "3296bbef",
      "metadata": {
        "id": "3296bbef"
      },
      "source": [
        "𝑟_𝑖=∑24_(𝑗=1)^𝐽▒𝑝_(𝑖,𝑗) , i=1,2,…I; 𝑐_𝑗=∑_(𝑖=1)^𝐼▒〖𝑝_(𝑖,𝑗), 𝑗=1,2,…𝐽〗\n",
        "𝑟_𝑖=[𝑟_1, 𝑟_2,…𝑟_𝐼 ], 𝑐_𝑗=[𝑐_1,𝑐_2,…𝑐_𝐽]\n",
        "![image-2.png](attachment:image-2.png)"
      ]
    },
    {
      "cell_type": "code",
      "execution_count": 33,
      "id": "ce9f9a8f",
      "metadata": {
        "colab": {
          "base_uri": "https://localhost:8080/"
        },
        "id": "ce9f9a8f",
        "outputId": "88a81d19-77f8-4116-f3fa-371abeffe4fa"
      },
      "outputs": [
        {
          "output_type": "stream",
          "name": "stdout",
          "text": [
            "\n",
            "expected_frequency:\n",
            " [[0.05549804 0.05984136 0.05646322 0.06273691 0.05356767]\n",
            " [0.06775923 0.07306213 0.06893765 0.07659739 0.06540239]\n",
            " [0.06937255 0.0748017  0.07057903 0.07842114 0.06695959]]\n",
            "\n",
            "centr_corrspnd_mat:\n",
            " [[ 0.00312843  0.00213519  0.00383829 -0.00076036 -0.00834154]\n",
            " [-0.00075756  0.0039898  -0.00193598 -0.00457059  0.00327433]\n",
            " [-0.00237087 -0.00612499 -0.00190231  0.00533095  0.00506721]]\n"
          ]
        }
      ],
      "source": [
        "# expected joint probabilities of independent assumptions\n",
        "expc_freq = np.kron(row_masses.reshape(-1, 1), col_masses.reshape(1, -1))\n",
        "#reshape(-1,1) is to transfer an array into only one column regardless of the row number,\n",
        "# Thus, row_masses is a mx1 matrix,\n",
        "# Contrarily, reshape(1,-1) means to transfer an array into only one row regardless of the column number.\n",
        "# Thus, col_masses is a 1xn matrix. np.kron is to conduct a matrix product, Rmx1 x C1xn\n",
        "# therefore, expc_freq is an mxn matrix.\n",
        "print(\"\\nexpected_frequency:\\n\",expc_freq)\n",
        "centr_corrspnd_mat = corrspnd_mat - expc_freq  # observed probabilities - expected probabilities\n",
        "print(\"\\ncentr_corrspnd_mat:\\n\",centr_corrspnd_mat)\n",
        "# the purpose of correspondence analysis is to minimize the centr_corrspndence_matrix"
      ]
    },
    {
      "cell_type": "markdown",
      "id": "cf7fb1bc",
      "metadata": {
        "id": "cf7fb1bc"
      },
      "source": [
        "𝑟_𝑖=[■8(𝑟_1@𝑟_2@█(…@𝑟_𝐼 ))]_(𝐼×1), 𝑐_𝑗=[■8(𝑐_1,&𝑐_2,…&𝑐_𝐽 )]_(1×𝐽)\n",
        "𝑝 ̂_(𝑖,𝑗)=𝑟_𝑖×𝑐_𝑗=[■8(𝑟_1 𝑐_1&…&𝑟_1 𝑐_𝐽@…&𝑟_𝑖 𝑐_𝑗&…@𝑟_𝐼 𝑐_1&…&𝑟_𝐼 𝑐_𝐽 )]_(𝐼×𝐽)\n",
        "![image-2.png](attachment:image-2.png)"
      ]
    },
    {
      "cell_type": "code",
      "execution_count": 34,
      "id": "43e218f9",
      "metadata": {
        "colab": {
          "base_uri": "https://localhost:8080/"
        },
        "id": "43e218f9",
        "outputId": "0b8217d7-b544-45f3-dc42-73b3fa6760bb"
      },
      "outputs": [
        {
          "output_type": "execute_result",
          "data": {
            "text/plain": [
              "2.339445784178082"
            ]
          },
          "metadata": {},
          "execution_count": 34
        }
      ],
      "source": [
        "# chi squared statistics\n",
        "chi_squared = ((centr_corrspnd_mat ** 2) / expc_freq).sum() * grand_total\n",
        "chi_squared"
      ]
    },
    {
      "cell_type": "code",
      "execution_count": 35,
      "id": "a42091fb-e09f-45a0-bcc5-bdfacb1f1c11",
      "metadata": {
        "colab": {
          "base_uri": "https://localhost:8080/"
        },
        "id": "a42091fb-e09f-45a0-bcc5-bdfacb1f1c11",
        "outputId": "584ed0d6-46fe-4ca0-dac9-a1dc5090f82d"
      },
      "outputs": [
        {
          "output_type": "stream",
          "name": "stdout",
          "text": [
            "Chi-square: 2.3394457841780816\n",
            "p-value of Chi-square test: 0.9687978229939023\n",
            "degree of freedom: 8\n",
            "expected frequency:\n",
            " [[33.13232831 35.72529313 33.70854271 37.45393635 31.9798995 ]\n",
            " [40.45226131 43.61809045 41.15577889 45.72864322 39.04522613]\n",
            " [41.41541039 44.65661642 42.13567839 46.81742044 39.97487437]]\n"
          ]
        }
      ],
      "source": [
        "from scipy import stats\n",
        "chi2, p, dof, expected = stats.chi2_contingency(contingency_table)\n",
        "print('Chi-square:', chi2)\n",
        "print('p-value of Chi-square test:',p)\n",
        "print('degree of freedom:', dof)\n",
        "print('expected frequency:\\n',expected)"
      ]
    },
    {
      "cell_type": "markdown",
      "id": "66a91d64",
      "metadata": {
        "id": "66a91d64"
      },
      "source": [
        "Two-way contingency table, a Chi-square statistic,\n",
        "𝑥^2=∑26_(𝑖=1)^𝐼▒∑24_(𝑗=1)^𝐽▒〖(𝑂_(𝑖,𝑗)−𝐸_(𝑖,𝑗))〗^2/𝐸_(𝑖,𝑗) =∑2_(𝑖=1)^𝐼▒∑_(𝑗=1)^𝐽▒〖(𝑝_(𝑖,𝑗)×𝑛−𝑝 ̂_(𝑖,𝑗)×𝑛)〗^2/(𝑝 ̂_(𝑖,𝑗)×𝑛)=∑2_(𝑖=1)^𝐼▒〖∑_(𝑗=1)^𝐽▒〖(𝑝_(𝑖,𝑗)−𝑝 ̂_(𝑖,𝑗))〗^2/𝑝 ̂_(𝑖,𝑗) ×𝑛〗![image-2.png](attachment:image-2.png)"
      ]
    },
    {
      "cell_type": "code",
      "execution_count": 36,
      "id": "6969f161",
      "metadata": {
        "colab": {
          "base_uri": "https://localhost:8080/"
        },
        "id": "6969f161",
        "outputId": "57a530ef-4f6c-43e9-a89f-b011084f9fb6"
      },
      "outputs": [
        {
          "output_type": "stream",
          "name": "stdout",
          "text": [
            "Dr_sqrt_inv:\n",
            " [[1.86304327 0.         0.        ]\n",
            " [0.         1.68607744 0.        ]\n",
            " [0.         0.         1.66635656]]\n",
            "\n",
            "Dc_sqrt_inv:\n",
            " [[2.2784434  0.         0.         0.         0.        ]\n",
            " [0.         2.19420057 0.         0.         0.        ]\n",
            " [0.         0.         2.25888559 0.         0.        ]\n",
            " [0.         0.         0.         2.14296703 0.        ]\n",
            " [0.         0.         0.         0.         2.31913311]]\n"
          ]
        }
      ],
      "source": [
        "# inverse square root of row and col masses for later computations\n",
        "Dr_sqrt_inv = np.diag(1 / np.sqrt(row_masses))  # create a IXI diagnal matrix by row_masses\n",
        "print('Dr_sqrt_inv:\\n',Dr_sqrt_inv)\n",
        "Dc_sqrt_inv = np.diag(1 / np.sqrt(col_masses))  # create a JxJ diagnal matrix by column_masses\n",
        "print('\\nDc_sqrt_inv:\\n',Dc_sqrt_inv)"
      ]
    },
    {
      "cell_type": "markdown",
      "id": "ed7c4a69",
      "metadata": {
        "id": "ed7c4a69"
      },
      "source": [
        "𝐷_𝑟^(1∕2)=𝑑𝑖𝑎𝑔(√(𝑟_1 ),√(𝑟_2 ),…,√(𝑟_𝐼 ))=[■8(√(𝑟_1 )&0…&0@█(0@…)&█(√(𝑟_2 )@…)&█(0@…)@0&0…&√(𝑟_𝐼 ))]_(𝐼×𝐼)\n",
        "\n",
        "𝐷_𝑐^(1∕2)=𝑑𝑖𝑎𝑔(√(𝑐_1 ),√(𝑐_2 ),…,√(𝑐_𝐽 ))=[■8(√(𝑐_1 )&0…&0@█(0@…)&█(√(𝑐_2 )@…)&█(0@…)@0&0…&√(𝑐_𝐽 ))]_(𝐽×𝐽)\n",
        "![image.png](attachment:image.png)"
      ]
    },
    {
      "cell_type": "code",
      "execution_count": 37,
      "id": "ee70ddb0",
      "metadata": {
        "colab": {
          "base_uri": "https://localhost:8080/"
        },
        "id": "ee70ddb0",
        "outputId": "e0000e9b-506a-461d-9405-f307af6b9677"
      },
      "outputs": [
        {
          "output_type": "execute_result",
          "data": {
            "text/plain": [
              "array([[ 0.01327967,  0.00872841,  0.01615305, -0.0030357 , -0.03604084],\n",
              "       [-0.00291025,  0.01476063, -0.00737347, -0.0165145 ,  0.0128034 ],\n",
              "       [-0.00900149, -0.02239491, -0.0071605 ,  0.01903656,  0.01958225]])"
            ]
          },
          "metadata": {},
          "execution_count": 37
        }
      ],
      "source": [
        "# Pearson's residuals\n",
        "pearson_resd = Dr_sqrt_inv @ centr_corrspnd_mat @ Dc_sqrt_inv\n",
        "# @ is used to matrix multiplication. pearson_resd is a 2D array, i.e., a matrix IxJ\n",
        "# pearson_residual matrix with IxI * IxJ * JxJ = IxJ\n",
        "pearson_resd"
      ]
    },
    {
      "cell_type": "code",
      "execution_count": 38,
      "id": "b7c44ebf",
      "metadata": {
        "id": "b7c44ebf"
      },
      "outputs": [],
      "source": [
        "U, D_lamb, V_T = np.linalg.svd(pearson_resd, full_matrices=False)\n",
        "# linalg: linear algebra; SVD: Singular Value Decomposition\n",
        "# full_matrices=False, then it is factorized as u @ np.diag(s) @ vh = (u * s) @ vh,\n",
        "# where \"u\" and the Hermitian \"transpose\" of \"vh\" are 2D arrays with orthonormal columns and\n",
        "# s is a 1D array of a’s singular values.\n",
        "# D_lamb is eigenvalue of pearson_resd, U, V_T are the associated eigenvectors."
      ]
    },
    {
      "cell_type": "markdown",
      "id": "7dcd973d",
      "metadata": {
        "id": "7dcd973d"
      },
      "source": [
        "### A is a kxk square matrix and I be the kxk identity matrix.\n",
        "#### Then the scalars λ1, λ2,…,λk satisfying |A-λI|=0, that is, A=λI.\n",
        "#### λi are called the eigenvalues of A.\n",
        "\n",
        "### A is a kxk matrix of real numbers. Let  λ  be an eigenvalue of A.\n",
        "#### If x is nonzero vector such that Ax=λx.  \n",
        "#### Then x is said to be an eigenvector of the matrix A associated with eigenvalue λ.\n",
        "\n",
        "### A is an mxk matrix of real numbers.\n",
        "#### There exist and mxn orthogonal mxm matrix U and a kxk orthogonal matrix V sych that A= U Λ V’\n",
        "#### Where the mxk katrix Λ has (i,i) entry λi ≧0 for i=1,2,3…min(m,k)\n",
        "#### and the other entries are zero. λi  are called the singular values of A."
      ]
    },
    {
      "cell_type": "code",
      "execution_count": 39,
      "id": "0c38a757",
      "metadata": {
        "colab": {
          "base_uri": "https://localhost:8080/"
        },
        "id": "0c38a757",
        "outputId": "779412bf-2759-4050-e276-8d52cfd2791b"
      },
      "outputs": [
        {
          "output_type": "stream",
          "name": "stdout",
          "text": [
            "eigenvalues [5.31462853e-02 3.30778176e-02 9.85917067e-17]\n"
          ]
        }
      ],
      "source": [
        "print('eigenvalues',D_lamb)"
      ]
    },
    {
      "cell_type": "code",
      "execution_count": 40,
      "id": "7b4e0f3e",
      "metadata": {
        "colab": {
          "base_uri": "https://localhost:8080/"
        },
        "id": "7b4e0f3e",
        "outputId": "219ccbbc-e627-4c9a-9464-7b19349c95ac"
      },
      "outputs": [
        {
          "output_type": "execute_result",
          "data": {
            "text/plain": [
              "array([2.82452764e-03, 1.09414202e-03, 9.72032464e-33])"
            ]
          },
          "metadata": {},
          "execution_count": 40
        }
      ],
      "source": [
        "# pricipal inertias also known as variance of variables\n",
        "principal_inertias = D_lamb ** 2  # eigenvalue λ squares\n",
        "principal_inertias"
      ]
    },
    {
      "cell_type": "code",
      "execution_count": 58,
      "id": "01fe0a52",
      "metadata": {
        "colab": {
          "base_uri": "https://localhost:8080/",
          "height": 570
        },
        "id": "01fe0a52",
        "outputId": "265f0d24-7ce3-48e9-cb9e-93ca27e8e303"
      },
      "outputs": [
        {
          "output_type": "display_data",
          "data": {
            "text/plain": [
              "<Figure size 800x600 with 1 Axes>"
            ],
            "image/png": "[encoded data removed]"
          },
          "metadata": {}
        }
      ],
      "source": [
        "variances = principal_inertias\n",
        "percent_explnd_var = (variances / variances.sum()) * 100\n",
        "\n",
        "plt.figure(figsize=(8, 6))\n",
        "# plot line chart along 1,2,3,4 on x_axis, variances on y_asix\n",
        "plt.plot(np.arange(1, len(percent_explnd_var)+1), percent_explnd_var)\n",
        "plt.title('Princial Interias: Percentage of Explained Variances', fontsize=16)\n",
        "plt.xlabel('Dimensions',fontsize=12)\n",
        "n_dim=len(variances)\n",
        "dimensions_labels=[f'{i+1}' for i in range(len(variances))]\n",
        "plt.xticks(np.arange(1,n_dim+1),dimensions_labels)  #show 1,2,3,4,5 on x_axis as ticks\n",
        "plt.ylabel('Percentage of explained variances',fontsize=12)\n",
        "# extract variances from percent_explnd_var and apply the percentage, %, format.\n",
        "var_text = ['{:.1f}%'.format(pers) for pers in percent_explnd_var[:5]]\n",
        "for i, txt in enumerate(var_text):\n",
        "    plt.annotate(txt, (i+1, percent_explnd_var[i]),\n",
        "                horizontalalignment='center',\n",
        "                verticalalignment='center')\n",
        "plt.grid()\n",
        "plt.show()"
      ]
    },
    {
      "cell_type": "code",
      "source": [],
      "metadata": {
        "id": "XBT0wyX_rlDX"
      },
      "id": "XBT0wyX_rlDX",
      "execution_count": null,
      "outputs": []
    },
    {
      "cell_type": "code",
      "execution_count": 42,
      "id": "5f7ea89d",
      "metadata": {
        "colab": {
          "base_uri": "https://localhost:8080/"
        },
        "id": "5f7ea89d",
        "outputId": "c5c0dcd8-b18c-4581-a30b-32b796151d81"
      },
      "outputs": [
        {
          "output_type": "stream",
          "name": "stdout",
          "text": [
            "Diagnal matrix of λ:\n",
            " [[5.31462853e-02 0.00000000e+00 0.00000000e+00]\n",
            " [0.00000000e+00 3.30778176e-02 0.00000000e+00]\n",
            " [0.00000000e+00 0.00000000e+00 9.85917067e-17]]\n"
          ]
        }
      ],
      "source": [
        "# make 1D array of singular values into a 2D array, a diagnal matrix with all λs\n",
        "D_lamb_mat = np.diag(D_lamb)\n",
        "print(\"Diagnal matrix of λ:\\n\", D_lamb_mat)"
      ]
    },
    {
      "cell_type": "code",
      "execution_count": 43,
      "id": "c6cb3363",
      "metadata": {
        "colab": {
          "base_uri": "https://localhost:8080/"
        },
        "id": "c6cb3363",
        "outputId": "1ecb76ba-754e-4a8b-a007-702a08758eec"
      },
      "outputs": [
        {
          "output_type": "stream",
          "name": "stdout",
          "text": [
            "princpl_coords_row\n",
            " [[-7.68607162e-02  2.03745770e-02  9.85917067e-17]\n",
            " [ 6.13148932e-03 -4.47413023e-02  9.85917067e-17]\n",
            " [ 5.54996764e-02  2.74011453e-02  9.85917067e-17]]\n"
          ]
        }
      ],
      "source": [
        "princpl_coords_row = Dr_sqrt_inv @ U @  D_lamb_mat # principal coordinates of row variables\n",
        "print(\"princpl_coords_row\\n\",princpl_coords_row )"
      ]
    },
    {
      "cell_type": "code",
      "execution_count": 44,
      "id": "b2c028ec",
      "metadata": {
        "colab": {
          "base_uri": "https://localhost:8080/"
        },
        "id": "b2c028ec",
        "outputId": "10061135-13e4-40dc-e453-aa4a43656f51"
      },
      "outputs": [
        {
          "output_type": "stream",
          "name": "stdout",
          "text": [
            "princpl_coords_column\n",
            " [[-3.67940048e-02  5.12728085e-03 -1.82737803e-16]\n",
            " [-4.34454025e-02 -4.40782677e-02 -3.39587804e-17]\n",
            " [-3.96003391e-02  1.73844491e-02 -5.99518648e-17]\n",
            " [ 2.81937879e-02  4.65198152e-02 -4.60420659e-17]\n",
            " [ 9.53746641e-02 -2.88782758e-02 -1.00616224e-16]]\n"
          ]
        }
      ],
      "source": [
        "princpl_coords_col = Dc_sqrt_inv @ V_T.T @ D_lamb_mat.T # principal coordinates of col variables\n",
        "print(\"princpl_coords_column\\n\",princpl_coords_col)"
      ]
    },
    {
      "cell_type": "code",
      "execution_count": 45,
      "id": "cfdd284c",
      "metadata": {
        "colab": {
          "base_uri": "https://localhost:8080/"
        },
        "id": "cfdd284c",
        "outputId": "a4002b23-5351-41a3-9b70-0583ec26e232"
      },
      "outputs": [
        {
          "output_type": "stream",
          "name": "stdout",
          "text": [
            "coord_row\n",
            " [[-0.07686072  0.02037458]\n",
            " [ 0.00613149 -0.0447413 ]\n",
            " [ 0.05549968  0.02740115]]\n",
            "coord_col\n",
            " [[-0.036794    0.00512728]\n",
            " [-0.0434454  -0.04407827]\n",
            " [-0.03960034  0.01738445]\n",
            " [ 0.02819379  0.04651982]\n",
            " [ 0.09537466 -0.02887828]]\n"
          ]
        }
      ],
      "source": [
        "n_components=2\n",
        "princpl_coords_row_n = princpl_coords_row[:, :n_components] # extract the first two columns\n",
        "princpl_coords_col_n = princpl_coords_col[:, :n_components] # extract the first two columns\n",
        "print('coord_row\\n', princpl_coords_row_n)\n",
        "print('coord_col\\n', princpl_coords_col_n)"
      ]
    },
    {
      "cell_type": "code",
      "execution_count": 46,
      "id": "a4a7fb13",
      "metadata": {
        "colab": {
          "base_uri": "https://localhost:8080/"
        },
        "id": "a4a7fb13",
        "outputId": "8c86ec68-c1a2-48d0-b685-387ecab38d67"
      },
      "outputs": [
        {
          "output_type": "stream",
          "name": "stdout",
          "text": [
            "row pcs_df\n",
            "                        Dim 0     Dim 1\n",
            "site                                  \n",
            "Game geners        -0.076861  0.020375\n",
            "Character modeling  0.006131 -0.044741\n",
            "Play Mode           0.055500  0.027401\n",
            "\n",
            "col pcs_df\n",
            "                         Dim 0     Dim 1\n",
            "Genshin             -0.036794  0.005127\n",
            "Love and Deep Space -0.043445 -0.044078\n",
            "Light and Night     -0.039600  0.017384\n",
            "Honkai: Star Rail    0.028194  0.046520\n",
            "Love and Producer    0.095375 -0.028878\n"
          ]
        }
      ],
      "source": [
        "# get_princpl_coords_df\n",
        "inds = ['Dim {}'.format(i) for i in range(n_components)]  # create two dimension names:'Dim 0' and 'Dim 1'\n",
        "#create row_pcs_df and col_pcs_df from the extract coord_row and coord_col\n",
        "# with columns=Dim0 and Dim1 and row indice=rows & columns in the original frequency table.\n",
        "row_pcs_df = pd.DataFrame(data=princpl_coords_row_n, columns=inds, index=row_categories)\n",
        "col_pcs_df = pd.DataFrame(data=princpl_coords_col_n, columns=inds, index=col_categories)\n",
        "print('row pcs_df\\n',row_pcs_df)\n",
        "print('\\ncol pcs_df\\n',col_pcs_df)"
      ]
    },
    {
      "cell_type": "code",
      "execution_count": 47,
      "id": "2fc4c850",
      "metadata": {
        "colab": {
          "base_uri": "https://localhost:8080/",
          "height": 566
        },
        "id": "2fc4c850",
        "outputId": "608e571b-f960-4c48-eabe-850ea782b899"
      },
      "outputs": [
        {
          "output_type": "display_data",
          "data": {
            "text/plain": [
              "<Figure size 800x600 with 1 Axes>"
            ],
            "image/png": "[encoded data removed]"
          },
          "metadata": {}
        }
      ],
      "source": [
        "plt.figure(figsize=(8, 6))\n",
        "for i, txt in enumerate(list(row_categories)):\n",
        "    plt.plot([0,row_pcs_df.iloc[i]['Dim 0']],[0,row_pcs_df.iloc[i]['Dim 1']])   #each line starts from original (0,0)\n",
        "    plt.annotate(txt, (row_pcs_df.iloc[i]['Dim 0'], row_pcs_df.iloc[i]['Dim 1']))# attach the point at the coordinate(dim0, dim1)\n",
        "for i, txt in enumerate(list(col_categories)):\n",
        "    plt.plot([0,col_pcs_df.iloc[i]['Dim 0']],[0,col_pcs_df.iloc[i]['Dim 1']])\n",
        "    plt.annotate(txt, (col_pcs_df.iloc[i]['Dim 0'], col_pcs_df.iloc[i]['Dim 1']))\n",
        "plt.title('Correspondence Analsys',fontsize=16)\n",
        "plt.xlabel('Dimension 1')\n",
        "plt.ylabel('Dimension 2')\n",
        "plt.vlines(0,-1,1,linewidth=1.2, color='k') # plot the y-axis\n",
        "plt.hlines(0,-1,1,linewidth=1.2, color='k' )# plot the x-axis\n",
        "plt.grid()\n",
        "plt.show()"
      ]
    },
    {
      "cell_type": "code",
      "execution_count": 47,
      "id": "7a47ee90-b22d-4a92-a2fc-6b56b9cecdf0",
      "metadata": {
        "id": "7a47ee90-b22d-4a92-a2fc-6b56b9cecdf0"
      },
      "outputs": [],
      "source": []
    }
  ],
  "metadata": {
    "kernelspec": {
      "display_name": "Python 3 (ipykernel)",
      "language": "python",
      "name": "python3"
    },
    "language_info": {
      "codemirror_mode": {
        "name": "ipython",
        "version": 3
      },
      "file_extension": ".py",
      "mimetype": "text/x-python",
      "name": "python",
      "nbconvert_exporter": "python",
      "pygments_lexer": "ipython3",
      "version": "3.12.7"
    },
    "colab": {
      "provenance": [],
      "include_colab_link": true
    }
  },
  "nbformat": 4,
  "nbformat_minor": 5
}